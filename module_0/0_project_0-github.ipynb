{
 "cells": [
  {
   "cell_type": "code",
   "execution_count": 55,
   "metadata": {},
   "outputs": [
    {
     "name": "stdout",
     "output_type": "stream",
     "text": [
      "Загадано число от 1 до 100\n",
      "Загаданное число меньше 51\n",
      "Загаданное число меньше 26\n",
      "Загаданное число больше 13\n",
      "Загаданное число меньше 19\n",
      "Загаданное число больше 16\n",
      "Вы угадали число 17 за 6 попыток.\n"
     ]
    }
   ],
   "source": [
    "# Загадываем число\n",
    "\n",
    "import numpy as np\n",
    "count = 0  \n",
    "number = np.random.randint(1,101)    \n",
    "print (\"Загадано число от 1 до 100\")\n",
    "\n",
    "# Функция для деления отрезка пополам\n",
    "\n",
    "def next_try (x, y):\n",
    "    return int((x+y)/2)\n",
    "\n",
    "# Вводные данные\n",
    "\n",
    "x = 1\n",
    "y = 101\n",
    "predict = next_try(x, y)\n",
    "count = 0\n",
    "\n",
    "# Запускаем цикл по поиску загаданного числа методом деления отрезка пополам\n",
    "\n",
    "while number != predict:\n",
    "    count+=1\n",
    "    if number > predict: \n",
    "        print (f'Загаданное число больше {predict}')\n",
    "        x = predict       # меняем нижнюю границу искомого диапазона\n",
    "        predict = next_try (x, y) # задаем следующий выбор\n",
    "             \n",
    "    elif number < predict: \n",
    "        print (f'Загаданное число меньше {predict}')\n",
    "        y = predict       # меняем верхнюю границу искомого диапазона\n",
    "        predict = next_try (x, y) # задаем следующий выбор    \n",
    "\n",
    "print (f\"Вы угадали число {number} за {count+1} попыток.\")\n"
   ]
  },
  {
   "cell_type": "code",
   "execution_count": 6,
   "metadata": {},
   "outputs": [],
   "source": []
  },
  {
   "cell_type": "code",
   "execution_count": null,
   "metadata": {},
   "outputs": [],
   "source": [
    "\n"
   ]
  },
  {
   "cell_type": "code",
   "execution_count": null,
   "metadata": {},
   "outputs": [],
   "source": []
  }
 ],
 "metadata": {
  "kernelspec": {
   "display_name": "Python 3",
   "language": "python",
   "name": "python3"
  },
  "language_info": {
   "codemirror_mode": {
    "name": "ipython",
    "version": 3
   },
   "file_extension": ".py",
   "mimetype": "text/x-python",
   "name": "python",
   "nbconvert_exporter": "python",
   "pygments_lexer": "ipython3",
   "version": "3.8.3"
  }
 },
 "nbformat": 4,
 "nbformat_minor": 4
}
